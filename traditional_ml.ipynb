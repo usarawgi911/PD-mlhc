{
 "cells": [
  {
   "cell_type": "code",
   "execution_count": 14,
   "metadata": {},
   "outputs": [
    {
     "name": "stdout",
     "output_type": "stream",
     "text": [
      "Populating the interactive namespace from numpy and matplotlib\n"
     ]
    }
   ],
   "source": [
    "import numpy as np\n",
    "from matplotlib import pyplot as plt\n",
    "\n",
    "import baseline\n",
    "\n",
    "from sklearn.linear_model import LogisticRegression\n",
    "from sklearn.svm import SVC\n",
    "\n",
    "import scipy.fftpack as F\n",
    "\n",
    "%pylab inline"
   ]
  },
  {
   "cell_type": "code",
   "execution_count": 5,
   "metadata": {},
   "outputs": [],
   "source": [
    "data = baseline.prepare_data('/Users/daphne/Dropbox (MIT)/pd-mlhc/CIS')"
   ]
  },
  {
   "cell_type": "code",
   "execution_count": 6,
   "metadata": {},
   "outputs": [],
   "source": [
    "subject_ids, measurement_ids, all_data, all_n_data, on_off_labels, dyskinesia_labels, tremor_labels = data"
   ]
  },
  {
   "cell_type": "code",
   "execution_count": 7,
   "metadata": {},
   "outputs": [],
   "source": [
    "X_tre, y_tre = baseline.cleaned_data(all_data, tremor_labels)\n",
    "X_med, y_med = baseline.cleaned_data(all_data, on_off_labels)\n",
    "X_dys, y_dys = baseline.cleaned_data(all_data, dyskinesia_labels)"
   ]
  },
  {
   "cell_type": "code",
   "execution_count": 83,
   "metadata": {},
   "outputs": [],
   "source": [
    "#############################################################\n",
    "chosen = 'medication'\n",
    "\n",
    "X_chosen = X_med\n",
    "y_chosen = y_med\n",
    "# there are 13 patients. Which go in train? which go in val?\n",
    "np.random.seed(123)\n",
    "rate = 0.7\n",
    "train = []\n",
    "val = []\n",
    "for subj in subject_ids :\n",
    "    r = np.random.rand()\n",
    "    if r < rate :\n",
    "        train.append(subj)\n",
    "    else :\n",
    "        val.append(subj)\n",
    "#############################################################\n",
    "\n",
    "avgs_train = []\n",
    "var_train = []\n",
    "y_train = []\n",
    "\n",
    "avgs_validate = []\n",
    "var_validate = []\n",
    "y_validate = []\n",
    "\n",
    "both_train = []\n",
    "both_validate = []\n",
    "\n",
    "for i in range(len(X_chosen)) :\n",
    "    s = X_chosen[i]\n",
    "    ident = subject_ids[i]\n",
    "    for m in s :\n",
    "        a = np.mean(m,axis=0)\n",
    "        v = np.var(m,axis=0)\n",
    "        if ident in train :\n",
    "            avgs_train.append(a)\n",
    "            var_train.append(v)\n",
    "            both_train.append(np.hstack((a,v)))\n",
    "        elif ident in val :\n",
    "            avgs_validate.append(a)\n",
    "            var_validate.append(v)\n",
    "            both_validate.append(np.hstack((a,v)))\n",
    "    if ident in train :\n",
    "        y_train += y_chosen[i]\n",
    "    elif ident in val :\n",
    "        y_validate += y_chosen[i]\n",
    "        \n",
    "        \n",
    "# do fourier transform... the above is not good enough\n",
    "# don't forget - sliding window, regressing against time from event!"
   ]
  },
  {
   "cell_type": "code",
   "execution_count": 84,
   "metadata": {},
   "outputs": [
    {
     "name": "stdout",
     "output_type": "stream",
     "text": [
      "Performance on training data for medication labels is 0.443\n",
      "Performance on validation data for medication labels is 0.536\n"
     ]
    }
   ],
   "source": [
    "clf = LogisticRegression(solver='lbfgs',multi_class='auto').fit(both_train, y_train)\n",
    "print('Performance on training data for {} labels is {:.3f}'.format(chosen,clf.score(both_train,y_train)))\n",
    "print('Performance on validation data for {} labels is {:.3f}'.format(chosen,clf.score(both_validate,y_validate)))"
   ]
  },
  {
   "cell_type": "code",
   "execution_count": 88,
   "metadata": {},
   "outputs": [
    {
     "name": "stdout",
     "output_type": "stream",
     "text": [
      "Performance on training data for medication labels is 0.340\n",
      "Performance on validation data for medication labels is 0.462\n"
     ]
    }
   ],
   "source": [
    "clf = SVC(gamma='scale',kernel='sigmoid').fit(both_train, y_train)\n",
    "print('Performance on training data for {} labels is {:.3f}'.format(chosen, clf.score(both_train,y_train)))\n",
    "print('Performance on validation data for {} labels is {:.3f}'.format(chosen, clf.score(both_validate,y_validate)))"
   ]
  },
  {
   "cell_type": "code",
   "execution_count": 18,
   "metadata": {},
   "outputs": [],
   "source": [
    "def do_fft(signal) :\n",
    "    N = signal.shape[0]\n",
    "    T = .02 #seconds per sample\n",
    "    \n",
    "    x = np.linspace(0.0, N*T, N)\n",
    "    yf = F.fft(signal)\n",
    "    xf = np.linspace(0.0, 1.0/(2.0*T), N/2)\n",
    "    return xf, 2.0/N * np.abs(yf[:N//2])"
   ]
  },
  {
   "cell_type": "code",
   "execution_count": 87,
   "metadata": {
    "scrolled": true
   },
   "outputs": [],
   "source": [
    "'''\n",
    "window is in seconds\n",
    "'''\n",
    "\n",
    "def window(signal, time_window=30, fs=1/0.02) :\n",
    "    \n",
    "    n = signal.shape[0]\n",
    "    window = int(time_window * fs)\n",
    "    num_splits = np.floor(n/window)\n",
    "    sigs_raw_trimmed = signal[:(-1*(n%window)),:]\n",
    "    sigs_list = np.split(sigs_raw_trimmed, num_splits, axis=0)\n",
    "    return sigs_list\n"
   ]
  },
  {
   "cell_type": "code",
   "execution_count": 93,
   "metadata": {},
   "outputs": [],
   "source": [
    "sigs_list = window(X_tre[0][0])\n",
    "avg_segs = [np.mean(seg,axis=0) for seg in sigs_list]\n",
    "var_segs = [np.var(seg,axis=0) for seg in sigs_list]"
   ]
  },
  {
   "cell_type": "code",
   "execution_count": null,
   "metadata": {},
   "outputs": [],
   "source": []
  }
 ],
 "metadata": {
  "kernelspec": {
   "display_name": "Python 3",
   "language": "python",
   "name": "python3"
  },
  "language_info": {
   "codemirror_mode": {
    "name": "ipython",
    "version": 3
   },
   "file_extension": ".py",
   "mimetype": "text/x-python",
   "name": "python",
   "nbconvert_exporter": "python",
   "pygments_lexer": "ipython3",
   "version": "3.7.4"
  }
 },
 "nbformat": 4,
 "nbformat_minor": 4
}
